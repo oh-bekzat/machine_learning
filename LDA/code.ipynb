{
 "cells": [
  {
   "cell_type": "code",
   "execution_count": 1,
   "metadata": {},
   "outputs": [],
   "source": [
    "import pylab as pl\n",
    "import scipy as sp\n",
    "import numpy as np\n",
    "from scipy.linalg import eig\n",
    "from scipy.io import loadmat\n",
    "import pdb"
   ]
  },
  {
   "cell_type": "code",
   "execution_count": 14,
   "metadata": {},
   "outputs": [],
   "source": [
    "def load_data(fname):\n",
    "    # load the data\n",
    "    data = loadmat(fname)\n",
    "    X,Y = data['X'],data['Y']\n",
    "    # collapse the time-electrode dimensions\n",
    "    X = np.reshape(X,(X.shape[0]*X.shape[1],X.shape[2]))\n",
    "    # transform the labels to (-1,1)\n",
    "    Y = np.sign((Y[0,:]>0) -.5)\n",
    "    return X,Y"
   ]
  },
  {
   "cell_type": "code",
   "execution_count": 3,
   "metadata": {},
   "outputs": [
    {
     "name": "stdout",
     "output_type": "stream",
     "text": [
      "(310, 5322)\n",
      "(5322,)\n"
     ]
    },
    {
     "name": "stderr",
     "output_type": "stream",
     "text": [
      "/home/fazli/anaconda3/lib/python3.7/site-packages/ipykernel_launcher.py:6: DeprecationWarning: scipy.reshape is deprecated and will be removed in SciPy 2.0.0, use numpy.reshape instead\n",
      "  \n",
      "/home/fazli/anaconda3/lib/python3.7/site-packages/ipykernel_launcher.py:8: DeprecationWarning: scipy.sign is deprecated and will be removed in SciPy 2.0.0, use numpy.sign instead\n",
      "  \n"
     ]
    }
   ],
   "source": [
    "X,Y = load_data('bcidata.mat')\n",
    "print(X.shape)\n",
    "print(Y.shape)\n"
   ]
  },
  {
   "cell_type": "code",
   "execution_count": 23,
   "metadata": {},
   "outputs": [],
   "source": [
    "def train_ncc(X,Y):\n",
    "    x1, x2 = np.zeros\n",
    "    for y, i in enumerate(Y):\n",
    "        if y == 1:\n",
    "            print('HI')\n",
    "            x1.append(X[i])\n",
    "        else:\n",
    "            x2.append(X[i])\n",
    "    m1 = np.mean(x1, axis = 0)\n",
    "    m2 = np.mean(x2, axis = 0)\n",
    "    w = np.subtract(m1, m2)\n",
    "    b = 0\n",
    "    \n",
    "    '''\n",
    "    Train a nearest centroid classifier\n",
    "    '''\n",
    "    # return the weight vector, bias term\n",
    "    return w,b"
   ]
  },
  {
   "cell_type": "code",
   "execution_count": null,
   "metadata": {},
   "outputs": [],
   "source": [
    "def train_lda(X,Y):\n",
    "    '''\n",
    "    Train a linear discriminant analysis classifier\n",
    "    '''\n",
    "    # return the weight vector, bias term\n",
    "    return w,b"
   ]
  },
  {
   "cell_type": "code",
   "execution_count": 15,
   "metadata": {},
   "outputs": [],
   "source": [
    "def compare_classifiers():\n",
    "    '''\n",
    "    compares nearest centroid classifier and linear discriminant analysis\n",
    "    '''\n",
    "    fname = 'bcidata.mat'\n",
    "    X,Y = load_data(fname)\n",
    "\n",
    "    permidx = np.random.permutation(sp.arange(X.shape[-1]))\n",
    "    trainpercent = 70.\n",
    "    stopat = int(np.floor(Y.shape[-1]*trainpercent/100.))\n",
    "    #pdb.set_trace()\n",
    "    \n",
    "    X,Y,Xtest,Ytest = X[:,permidx[:stopat]],Y[permidx[:stopat]],X[:,permidx[stopat:]],Y[permidx[stopat:]]\n",
    "\n",
    "    w_ncc,b_ncc = train_ncc(X,Y)\n",
    "    print(w_ncc)\n",
    "    w_lda,b_lda = train_lda(X,Y)\n",
    "    fig = pl.figure(figsize=(12,5))\n",
    "\n",
    "    ax1 = fig.add_subplot(1,2,1)\n",
    "    #pl.hold(True)\n",
    "    ax1.hist(w_ncc.dot(Xtest[:,Ytest<0]))\n",
    "    ax1.hist(w_ncc.dot(Xtest[:,Ytest>0]))\n",
    "    ax1.set_xlabel('$w^{T}_{NCC}X$')\n",
    "    ax1.legend(('non-target','target'))\n",
    "    ax1.set_title(\"NCC Acc \" + str(np.sum(np.sign(w_ncc.dot(Xtest)-b_ncc)==Ytest)*100/Xtest.shape[-1]) + \"%\")\n",
    "    ax2 = fig.add_subplot(1,2,2)\n",
    "    ax2.hist(w_lda.dot(Xtest[:,Ytest<0]))\n",
    "    ax2.hist(w_lda.dot(Xtest[:,Ytest>0]))\n",
    "    ax2.set_xlabel('$w^{T}_{LDA}X$')\n",
    "    ax2.legend(('non-target','target'))\n",
    "    ax2.set_title(\"LDA Acc \" + str(np.sum(np.sign(w_lda.dot(Xtest)-b_lda)==Ytest)*100/Xtest.shape[-1]) + \"%\")\n",
    "    pl.savefig('ncc-lda-comparison.pdf')\n"
   ]
  },
  {
   "cell_type": "code",
   "execution_count": 24,
   "metadata": {},
   "outputs": [
    {
     "name": "stderr",
     "output_type": "stream",
     "text": [
      "/var/folders/c9/f180hbpd3vg432mzv1m0rgs80000gn/T/ipykernel_84883/1821707313.py:8: DeprecationWarning: scipy.arange is deprecated and will be removed in SciPy 2.0.0, use numpy.arange instead\n",
      "  permidx = np.random.permutation(sp.arange(X.shape[-1]))\n"
     ]
    },
    {
     "ename": "TypeError",
     "evalue": "cannot unpack non-iterable builtin_function_or_method object",
     "output_type": "error",
     "traceback": [
      "\u001b[0;31m---------------------------------------------------------------------------\u001b[0m",
      "\u001b[0;31mTypeError\u001b[0m                                 Traceback (most recent call last)",
      "Cell \u001b[0;32mIn[24], line 1\u001b[0m\n\u001b[0;32m----> 1\u001b[0m \u001b[43mcompare_classifiers\u001b[49m\u001b[43m(\u001b[49m\u001b[43m)\u001b[49m\n",
      "Cell \u001b[0;32mIn[15], line 15\u001b[0m, in \u001b[0;36mcompare_classifiers\u001b[0;34m()\u001b[0m\n\u001b[1;32m     11\u001b[0m \u001b[38;5;66;03m#pdb.set_trace()\u001b[39;00m\n\u001b[1;32m     13\u001b[0m X,Y,Xtest,Ytest \u001b[38;5;241m=\u001b[39m X[:,permidx[:stopat]],Y[permidx[:stopat]],X[:,permidx[stopat:]],Y[permidx[stopat:]]\n\u001b[0;32m---> 15\u001b[0m w_ncc,b_ncc \u001b[38;5;241m=\u001b[39m \u001b[43mtrain_ncc\u001b[49m\u001b[43m(\u001b[49m\u001b[43mX\u001b[49m\u001b[43m,\u001b[49m\u001b[43mY\u001b[49m\u001b[43m)\u001b[49m\n\u001b[1;32m     16\u001b[0m \u001b[38;5;28mprint\u001b[39m(w_ncc)\n\u001b[1;32m     17\u001b[0m w_lda,b_lda \u001b[38;5;241m=\u001b[39m train_lda(X,Y)\n",
      "Cell \u001b[0;32mIn[23], line 2\u001b[0m, in \u001b[0;36mtrain_ncc\u001b[0;34m(X, Y)\u001b[0m\n\u001b[1;32m      1\u001b[0m \u001b[38;5;28;01mdef\u001b[39;00m \u001b[38;5;21mtrain_ncc\u001b[39m(X,Y):\n\u001b[0;32m----> 2\u001b[0m     x1, x2 \u001b[38;5;241m=\u001b[39m np\u001b[38;5;241m.\u001b[39mzeros\n\u001b[1;32m      3\u001b[0m     \u001b[38;5;28;01mfor\u001b[39;00m y, i \u001b[38;5;129;01min\u001b[39;00m \u001b[38;5;28menumerate\u001b[39m(Y):\n\u001b[1;32m      4\u001b[0m         \u001b[38;5;28;01mif\u001b[39;00m y \u001b[38;5;241m==\u001b[39m \u001b[38;5;241m1\u001b[39m:\n",
      "\u001b[0;31mTypeError\u001b[0m: cannot unpack non-iterable builtin_function_or_method object"
     ]
    }
   ],
   "source": [
    "compare_classifiers()"
   ]
  },
  {
   "cell_type": "code",
   "execution_count": null,
   "metadata": {},
   "outputs": [],
   "source": [
    "def crossvalidate(X,Y,f=10,trainfunction=train_lda):\n",
    "    ''' \n",
    "    Test generalization performance of a linear classifier\n",
    "    Input:\tX\tdata (dims-by-samples)\n",
    "            Y\tlabels (1-by-samples)\n",
    "            f\tnumber of cross-validation folds\n",
    "            trainfunction \ttrains linear classifier\n",
    "    '''\n",
    "    ...\n",
    "    for ifold in sp.arange(f):\n",
    "        ...\n",
    "        # train classifier\n",
    "        w,b = trainfunction(X[:,train],Y[train])\n",
    "        # compute accuracy on training data\n",
    "        acc_train[ifold] = ...\n",
    "        # compute accuracy on test data\n",
    "        acc_test[ifold] = ...\n",
    "\n",
    "    return acc_train,acc_test\n"
   ]
  },
  {
   "cell_type": "code",
   "execution_count": null,
   "metadata": {},
   "outputs": [],
   "source": [
    "X,Y = load_data('bcidata.mat')\n",
    "crossvalidate(X,Y,f=10,trainfunction=train_lda)"
   ]
  },
  {
   "cell_type": "code",
   "execution_count": 8,
   "metadata": {},
   "outputs": [
    {
     "name": "stdout",
     "output_type": "stream",
     "text": [
      "[-17.34089911 -10.1842088   -2.89934382 ...   3.07943736  13.11113451\n",
      "  -8.55525458]\n"
     ]
    },
    {
     "name": "stderr",
     "output_type": "stream",
     "text": [
      "/var/folders/c9/f180hbpd3vg432mzv1m0rgs80000gn/T/ipykernel_84883/168023783.py:6: DeprecationWarning: scipy.reshape is deprecated and will be removed in SciPy 2.0.0, use numpy.reshape instead\n",
      "  X = sp.reshape(X,(X.shape[0]*X.shape[1],X.shape[2]))\n",
      "/var/folders/c9/f180hbpd3vg432mzv1m0rgs80000gn/T/ipykernel_84883/168023783.py:8: DeprecationWarning: scipy.sign is deprecated and will be removed in SciPy 2.0.0, use numpy.sign instead\n",
      "  Y = sp.sign((Y[0,:]>0) -.5)\n"
     ]
    }
   ],
   "source": [
    "X,Y = load_data('bcidata.mat')\n",
    "print(X[0])"
   ]
  },
  {
   "cell_type": "code",
   "execution_count": null,
   "metadata": {},
   "outputs": [],
   "source": []
  }
 ],
 "metadata": {
  "kernelspec": {
   "display_name": "Python 3 (ipykernel)",
   "language": "python",
   "name": "python3"
  },
  "language_info": {
   "codemirror_mode": {
    "name": "ipython",
    "version": 3
   },
   "file_extension": ".py",
   "mimetype": "text/x-python",
   "name": "python",
   "nbconvert_exporter": "python",
   "pygments_lexer": "ipython3",
   "version": "3.10.5"
  }
 },
 "nbformat": 4,
 "nbformat_minor": 4
}
