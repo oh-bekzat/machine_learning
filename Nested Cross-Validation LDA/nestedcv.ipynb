{
 "cells": [
  {
   "cell_type": "code",
   "execution_count": 19,
   "metadata": {},
   "outputs": [],
   "source": [
    "import matplotlib.pylab as pl\n",
    "import numpy as np\n",
    "import scipy as sp\n",
    "from numpy.linalg import eig\n",
    "from scipy.io import loadmat\n",
    "import pdb"
   ]
  },
  {
   "cell_type": "code",
   "execution_count": 18,
   "metadata": {},
   "outputs": [
    {
     "name": "stdout",
     "output_type": "stream",
     "text": [
      "Collecting scipy\n",
      "  Downloading scipy-1.12.0-cp312-cp312-macosx_12_0_arm64.whl.metadata (217 kB)\n",
      "\u001b[2K     \u001b[90m━━━━━━━━━━━━━━━━━━━━━━━━━━━━━━━━━━━━━\u001b[0m \u001b[32m217.9/217.9 kB\u001b[0m \u001b[31m188.2 kB/s\u001b[0m eta \u001b[36m0:00:00\u001b[0ma \u001b[36m0:00:01\u001b[0m\n",
      "\u001b[?25hRequirement already satisfied: numpy<1.29.0,>=1.22.4 in /opt/homebrew/Cellar/jupyterlab/4.1.1/libexec/lib/python3.12/site-packages (from scipy) (1.26.4)\n",
      "Downloading scipy-1.12.0-cp312-cp312-macosx_12_0_arm64.whl (31.4 MB)\n",
      "\u001b[2K   \u001b[90m━━━━━━━━━━━━━━━━━━━━━━━━━━━━━━━━━━━━━━━━\u001b[0m \u001b[32m31.4/31.4 MB\u001b[0m \u001b[31m326.0 kB/s\u001b[0m eta \u001b[36m0:00:00\u001b[0m00:01\u001b[0m00:03\u001b[0m\n",
      "\u001b[?25hInstalling collected packages: scipy\n",
      "Successfully installed scipy-1.12.0\n",
      "Note: you may need to restart the kernel to use updated packages.\n"
     ]
    }
   ],
   "source": [
    "pip install scipy"
   ]
  },
  {
   "cell_type": "code",
   "execution_count": 28,
   "metadata": {},
   "outputs": [],
   "source": [
    "def load_data(fname):\n",
    "    # load the data\n",
    "    data = loadmat('bcidata.mat')\n",
    "    # extract images and labels\n",
    "    X = data['X']\n",
    "    print(X.shape)\n",
    "    Y = data['Y']\n",
    "    print(Y.shape)\n",
    "    # collapse the time-electrode dimensions\n",
    "    X = np.reshape(X,(X.shape[0]*X.shape[1],X.shape[2]))\n",
    "    # transform the labels to (-1,1)\n",
    "    Y = np.sign((Y[0,:]>0) -.5)\n",
    "    # pick only first 500 (1000, 3000) datapoints and compare optimal shrinkage\n",
    "    X = X[:500]\n",
    "    Y = Y[:500]\n",
    "    print(X.shape)\n",
    "    print(Y.shape)\n",
    "    return X,Y"
   ]
  },
  {
   "cell_type": "code",
   "execution_count": 42,
   "metadata": {},
   "outputs": [
    {
     "name": "stderr",
     "output_type": "stream",
     "text": [
      "<>:46: SyntaxWarning: invalid escape sequence '\\g'\n",
      "<>:46: SyntaxWarning: invalid escape sequence '\\g'\n",
      "/var/folders/c9/f180hbpd3vg432mzv1m0rgs80000gn/T/ipykernel_41018/4199650184.py:46: SyntaxWarning: invalid escape sequence '\\g'\n",
      "  pl.xlabel('$\\gamma$')\n"
     ]
    }
   ],
   "source": [
    "def crossvalidate_nested(X,Y,f,gammas):\n",
    "    ''' \n",
    "    Optimize shrinkage parameter for generalization performance \n",
    "    Input:\tX\tdata (dims-by-samples)\n",
    "                Y\tlabels (1-by-samples)\n",
    "                f\tnumber of cross-validation folds\n",
    "                gammas\ta selection of shrinkage parameters\n",
    "                trainfunction \ttrains linear classifier, returns weight vector and bias term\n",
    "    '''\n",
    "    # the next two lines reshape vector of indices in to a matrix:\n",
    "    # number of rows = # of folds\n",
    "    # number of columns = # of total data-points / # folds\n",
    "    N = f*int(np.floor(X.shape[-1]/f))\n",
    "    idx = np.reshape(np.arange(N),(f,int(np.floor(N/f)))) \n",
    "    # pdb.set_trace()\n",
    "    acc_test = np.zeros((f))\n",
    "    testgamma = np.zeros((gammas.shape[-1],f))\n",
    "    print(idx.shape)\n",
    "    # loop over folds:\n",
    "    # select one row of 'idx' for testing, all other rows for training\n",
    "    # call variables (indices) for training and testing 'train' and 'test'\n",
    "    for ifold in np.arange(f):\n",
    "        test_set = idx[ifold]\n",
    "        print(test_set.shape)\n",
    "        train_set = np.concatenate(idx[0:ifold-1], idx[ifold:])\n",
    "        print(train_set.shape)\n",
    "        ...\n",
    "        ...\n",
    "        \n",
    "        # loop over gammas\n",
    "        for igamma in range(gammas.shape[-1]):\n",
    "            # each gamma is fed into the inner CV via the function 'crossvalidate_lda'\n",
    "            # the resulting variable is called 'testgamma'\n",
    "            testgamma[igamma,ifold] = crossvalidate_lda(...,...,f-1,...)\n",
    "        # find the the highest accuracy of gammas for a given fold and use it to train an LDA on the training data\n",
    "        ...\n",
    "        w,b = train_lda(...,...,...)\n",
    "        # calculate the accuracy for this LDA classifier on the test data\n",
    "        ...\n",
    "        acc_test[ifold] = ...\n",
    "\n",
    "    # do some plotting\n",
    "    pl.figure()\n",
    "    pl.boxplot(testgamma.T)\n",
    "    pl.xticks(np.arange(gammas.shape[-1])+1,gammas)\n",
    "    pl.xlabel('$\\gamma$')\n",
    "    pl.ylabel('Accuracy')\n",
    "    pl.savefig('cv_nested-boxplot.pdf')\n",
    "\n",
    "    return acc_test,testgamma"
   ]
  },
  {
   "cell_type": "code",
   "execution_count": 38,
   "metadata": {},
   "outputs": [],
   "source": [
    "def crossvalidate_lda(X,Y,f,gamma):\n",
    "    ''' \n",
    "    Test generalization performance of shrinkage lda\n",
    "    Input:\tX\tdata (dims-by-samples)\n",
    "                Y\tlabels (1-by-samples)\n",
    "                f\tnumber of cross-validation folds\n",
    "                trainfunction \ttrains linear classifier, returns weight vector and bias term\n",
    "    '''\n",
    "    N = f*int(np.floor(X.shape[-1]/f))\n",
    "    idx = np.reshape(np.arange(N),(f,int(np.floor(N/f))))\n",
    "    acc_test = np.zeros((f))\n",
    "    \n",
    "    # loop over folds\n",
    "    # select one row of idx for testing, all others for training\n",
    "    # call variables (indices) for training and testing 'train' and 'test'\n",
    "    for ifold in np.arange(f):\n",
    "        ...\n",
    "        ...\n",
    "        # train LDA classifier with training data and given gamma:\n",
    "        w,b = train_lda(...,...,...)\n",
    "        # test classifier on test data:\n",
    "        ...\n",
    "        acc_test[ifold] = ...\n",
    "    return acc_test.mean()"
   ]
  },
  {
   "cell_type": "code",
   "execution_count": 39,
   "metadata": {},
   "outputs": [],
   "source": [
    "def train_lda(X,Y,gamma):\n",
    "    '''\n",
    "    Train a nearest centroid classifier\n",
    "    '''\n",
    "    # class means\n",
    "    mupos = np.mean(X[:,Y>0],axis=1)\n",
    "    muneg = np.mean(X[:,Y<0],axis=1)\n",
    "\n",
    "    # inter and intra class covariance matrices\n",
    "    Sinter = np.outer(mupos-muneg,mupos-muneg)\n",
    "    #Sinter = np.outer(muneg-mupos,muneg-mupos)\n",
    "    Sintra = np.cov(X[:,Y>0]) + np.cov(X[:,Y<0])\n",
    "    # shrink covariance matrix estimate\n",
    "    Sintra = ...\n",
    "    # solve eigenproblem\n",
    "    eigvals, eigvecs = np.linalg.eig(Sinter,Sintra)\n",
    "    # weight vector\n",
    "    w = eigvecs[:,eigvals.argmax()]\n",
    "    # offset\n",
    "    b = (w.dot(mupos) + w.dot(muneg))/2.\n",
    "    # return the weight vector\n",
    "    return w,b"
   ]
  },
  {
   "cell_type": "code",
   "execution_count": 44,
   "metadata": {},
   "outputs": [
    {
     "name": "stdout",
     "output_type": "stream",
     "text": [
      "(5, 62, 5322)\n",
      "(2, 5322)\n",
      "(310, 5322)\n",
      "(500,)\n",
      "(10, 532)\n",
      "(532,)\n"
     ]
    },
    {
     "ename": "TypeError",
     "evalue": "only integer scalar arrays can be converted to a scalar index",
     "output_type": "error",
     "traceback": [
      "\u001b[0;31m---------------------------------------------------------------------------\u001b[0m",
      "\u001b[0;31mTypeError\u001b[0m                                 Traceback (most recent call last)",
      "Cell \u001b[0;32mIn[44], line 3\u001b[0m\n\u001b[1;32m      1\u001b[0m X,Y \u001b[38;5;241m=\u001b[39m load_data(\u001b[38;5;124m'\u001b[39m\u001b[38;5;124mbcidata.mat\u001b[39m\u001b[38;5;124m'\u001b[39m)\n\u001b[1;32m      2\u001b[0m gammas\u001b[38;5;241m=\u001b[39mnp\u001b[38;5;241m.\u001b[39marray([\u001b[38;5;241m0\u001b[39m,\u001b[38;5;241m.005\u001b[39m,\u001b[38;5;241m.05\u001b[39m,\u001b[38;5;241m.5\u001b[39m,\u001b[38;5;241m1\u001b[39m])\n\u001b[0;32m----> 3\u001b[0m a,b \u001b[38;5;241m=\u001b[39m \u001b[43mcrossvalidate_nested\u001b[49m\u001b[43m(\u001b[49m\u001b[43mX\u001b[49m\u001b[43m,\u001b[49m\u001b[43mY\u001b[49m\u001b[43m,\u001b[49m\u001b[38;5;241;43m10\u001b[39;49m\u001b[43m,\u001b[49m\u001b[43mgammas\u001b[49m\u001b[43m)\u001b[49m\n\u001b[1;32m      4\u001b[0m \u001b[38;5;28mprint\u001b[39m(a)\n\u001b[1;32m      5\u001b[0m \u001b[38;5;28mprint\u001b[39m(b)\n",
      "Cell \u001b[0;32mIn[42], line 25\u001b[0m, in \u001b[0;36mcrossvalidate_nested\u001b[0;34m(X, Y, f, gammas)\u001b[0m\n\u001b[1;32m     23\u001b[0m test_set \u001b[38;5;241m=\u001b[39m idx[ifold]\n\u001b[1;32m     24\u001b[0m \u001b[38;5;28mprint\u001b[39m(test_set\u001b[38;5;241m.\u001b[39mshape)\n\u001b[0;32m---> 25\u001b[0m train_set \u001b[38;5;241m=\u001b[39m \u001b[43mnp\u001b[49m\u001b[38;5;241;43m.\u001b[39;49m\u001b[43mconcatenate\u001b[49m\u001b[43m(\u001b[49m\u001b[43midx\u001b[49m\u001b[43m[\u001b[49m\u001b[38;5;241;43m0\u001b[39;49m\u001b[43m:\u001b[49m\u001b[43mifold\u001b[49m\u001b[38;5;241;43m-\u001b[39;49m\u001b[38;5;241;43m1\u001b[39;49m\u001b[43m]\u001b[49m\u001b[43m,\u001b[49m\u001b[43m \u001b[49m\u001b[43midx\u001b[49m\u001b[43m[\u001b[49m\u001b[43mifold\u001b[49m\u001b[43m:\u001b[49m\u001b[43m]\u001b[49m\u001b[43m)\u001b[49m\n\u001b[1;32m     26\u001b[0m \u001b[38;5;28mprint\u001b[39m(train_set\u001b[38;5;241m.\u001b[39mshape)\n\u001b[1;32m     27\u001b[0m \u001b[38;5;241m.\u001b[39m\u001b[38;5;241m.\u001b[39m\u001b[38;5;241m.\u001b[39m\n",
      "\u001b[0;31mTypeError\u001b[0m: only integer scalar arrays can be converted to a scalar index"
     ]
    }
   ],
   "source": [
    "X,Y = load_data('bcidata.mat')\n",
    "gammas=np.array([0,.005,.05,.5,1])\n",
    "a,b = crossvalidate_nested(X,Y,10,gammas)\n",
    "print(a)\n",
    "print(b)\n"
   ]
  },
  {
   "cell_type": "code",
   "execution_count": null,
   "metadata": {},
   "outputs": [],
   "source": []
  }
 ],
 "metadata": {
  "kernelspec": {
   "display_name": "Python 3 (ipykernel)",
   "language": "python",
   "name": "python3"
  },
  "language_info": {
   "codemirror_mode": {
    "name": "ipython",
    "version": 3
   },
   "file_extension": ".py",
   "mimetype": "text/x-python",
   "name": "python",
   "nbconvert_exporter": "python",
   "pygments_lexer": "ipython3",
   "version": "3.12.2"
  }
 },
 "nbformat": 4,
 "nbformat_minor": 4
}
