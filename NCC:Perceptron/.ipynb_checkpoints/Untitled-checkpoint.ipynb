{
 "cells": [
  {
   "cell_type": "code",
   "execution_count": 6,
   "id": "4e61c32d-fd14-44a5-81ca-c251a553bb59",
   "metadata": {},
   "outputs": [],
   "source": [
    "# please fill all missing lines\n",
    "# you need to start with the function 'digits'\n",
    "# then continue with ncc_train and then predict_ncc\n",
    "# if it the code is completed correctly,\n",
    "# it will print a pdf in the local folder with results\n",
    "# happy coding..\n",
    "\n",
    "import pylab as pl\n",
    "import scipy as sp\n",
    "import numpy as np\n",
    "from scipy.io import loadmat\n",
    "import pdb"
   ]
  },
  {
   "cell_type": "code",
   "execution_count": 8,
   "id": "4a4e5714-784a-44d9-948d-607a91ed34c8",
   "metadata": {},
   "outputs": [],
   "source": [
    "def load_data(fname):\n",
    "    # load the data\n",
    "    data = loadmat(fname)\n",
    "    # extract images and labels\n",
    "    imgs = data['data_patterns']\n",
    "    labels = data['data_labels']\n",
    "    return imgs, labels"
   ]
  },
  {
   "cell_type": "code",
   "execution_count": null,
   "id": "540549ff-6f72-48d4-a2ba-e7133331f284",
   "metadata": {},
   "outputs": [],
   "source": [
    "def ncc_train(X,Y,Xtest,Ytest):\n",
    "    # initialize accuracy vector\n",
    "    acc = sp.zeros(X.shape[-1])\n",
    "    # unique class labels\n",
    "    cids = sp.unique(Y)\n",
    "    # initialize mu, shape should be (256,2) - why? \n",
    "    mu = \n",
    "    # initialize counter , shape should be (2,) - why?\n",
    "    Nk = \n",
    "    # loop over all data points in training set\n",
    "    for n \n",
    "        # set idx to current class label\n",
    "        idx = cids==Y[n]\n",
    "        # update mu\n",
    "        mu[:,idx] = \n",
    "        # update counter\n",
    "        Nk[idx]\n",
    "        # predict test labels with current mu\n",
    "        yhat = predict_ncc(Xtest,mu)\n",
    "        # calculate current accuracy with test labels\n",
    "        acc[n] =\n",
    "    # return weight vector and error\n",
    "    return mu,acc"
   ]
  },
  {
   "cell_type": "code",
   "execution_count": null,
   "id": "8a0f2a27-7815-4f1c-9dd5-729d163e5723",
   "metadata": {},
   "outputs": [],
   "source": [
    "def predict_ncc(X,mu):\n",
    "    # do nearest-centroid classification\n",
    "    # initialize distance matrix with zeros and shape (602,2) - why?\n",
    "    NCdist =\n",
    "    # compute euclidean distance to centroids\n",
    "    # loop over both classes\n",
    "    for ic in sp.arange(mu.shape[-1]):\n",
    "        # calculate distances of every point to centroid\n",
    "        # in one line\n",
    "        NCdist[:,ic] = \n",
    "\n",
    "    # assign the class label of the nearest (euclidean distance) centroid\n",
    "    Yclass = NCdist.argmin(axis=1)\n",
    "    return Yclass"
   ]
  },
  {
   "cell_type": "code",
   "execution_count": 9,
   "id": "220ed008-f100-43f4-b8c3-50ab87155f80",
   "metadata": {},
   "outputs": [],
   "source": [
    "def digits(digit):\n",
    "    fname = \"usps.mat\"\n",
    "    imgs,labels = load_data(fname)\n",
    "    # we only want to classify one digit \n",
    "    labels = sp.sign((labels[digit,:]>0)-.5)\n",
    "    print('GEe')\n",
    "    print(labels)\n",
    "    # please think about what the next lines do\n",
    "    permidx = sp.random.permutation(sp.arange(imgs.shape[-1]))\n",
    "    trainpercent = 70.\n",
    "    stopat = sp.floor(labels.shape[-1]*trainpercent/100.)\n",
    "    stopat= int(stopat)\n",
    "\n",
    "    # cut segment data into train and test set into two non-overlapping sets:\n",
    "    #X = \n",
    "    #Y = \n",
    "    #Xtest = \n",
    "    #Ytest =\n",
    "    #check that shapes of X and Y make sense..\n",
    "    # it might makes sense to print them\n",
    "    \n",
    "    mu,acc_ncc = ncc_train(X,Y,Xtest,Ytest)\n",
    "\n",
    "    fig = pl.figure(figsize=(10,5))\n",
    "    ax1 = fig.add_subplot(1,2,1)\n",
    "    ax1.plot(acc_ncc*100.)\n",
    "    pl.xlabel('Iterations')\n",
    "    pl.title('NCC')\n",
    "    pl.ylabel('Accuracy [%]')\n",
    "\n",
    "    # and imshow the weight vector\n",
    "    ax2 = fig.add_subplot(1,2,2)\n",
    "    # reshape weight vector\n",
    "    weights = sp.reshape(mu[:,-1],(int(sp.sqrt(imgs.shape[0])),int(sp.sqrt(imgs.shape[0]))))\n",
    "    # plot the weight image\n",
    "    imgh = ax2.imshow(weights)\n",
    "    # with colorbar\n",
    "    pl.colorbar(imgh)\n",
    "    ax2.set_title('NCC Centroid')\n",
    "    # remove axis ticks\n",
    "    pl.xticks(())\n",
    "    pl.yticks(())\n",
    "    # remove axis ticks\n",
    "    pl.xticks(())\n",
    "    pl.yticks(())\n",
    "\n",
    "    # write the picture to pdf\n",
    "    fname = 'NCC_digits-%d.pdf'%digit\n",
    "    pl.savefig(fname)"
   ]
  },
  {
   "cell_type": "code",
   "execution_count": 10,
   "id": "23f9a6c6-2195-4ec1-bf3a-5bc1edf212a5",
   "metadata": {},
   "outputs": [
    {
     "name": "stdout",
     "output_type": "stream",
     "text": [
      "[-1. -1. -1. ... -1.  1. -1.]\n"
     ]
    },
    {
     "name": "stderr",
     "output_type": "stream",
     "text": [
      "/var/folders/c9/f180hbpd3vg432mzv1m0rgs80000gn/T/ipykernel_74192/540333913.py:5: DeprecationWarning: scipy.sign is deprecated and will be removed in SciPy 2.0.0, use numpy.sign instead\n",
      "  labels = sp.sign((labels[digit,:]>0)-.5)\n"
     ]
    },
    {
     "ename": "AttributeError",
     "evalue": "Module 'scipy' has no attribute 'random'",
     "output_type": "error",
     "traceback": [
      "\u001b[0;31m---------------------------------------------------------------------------\u001b[0m",
      "\u001b[0;31mKeyError\u001b[0m                                  Traceback (most recent call last)",
      "File \u001b[0;32m/Library/Frameworks/Python.framework/Versions/3.10/lib/python3.10/site-packages/scipy/__init__.py:192\u001b[0m, in \u001b[0;36m__getattr__\u001b[0;34m(name)\u001b[0m\n\u001b[1;32m    191\u001b[0m \u001b[38;5;28;01mtry\u001b[39;00m:\n\u001b[0;32m--> 192\u001b[0m     \u001b[38;5;28;01mreturn\u001b[39;00m \u001b[38;5;28;43mglobals\u001b[39;49m\u001b[43m(\u001b[49m\u001b[43m)\u001b[49m\u001b[43m[\u001b[49m\u001b[43mname\u001b[49m\u001b[43m]\u001b[49m\n\u001b[1;32m    193\u001b[0m \u001b[38;5;28;01mexcept\u001b[39;00m \u001b[38;5;167;01mKeyError\u001b[39;00m:\n",
      "\u001b[0;31mKeyError\u001b[0m: 'random'",
      "\nDuring handling of the above exception, another exception occurred:\n",
      "\u001b[0;31mAttributeError\u001b[0m                            Traceback (most recent call last)",
      "Cell \u001b[0;32mIn[10], line 1\u001b[0m\n\u001b[0;32m----> 1\u001b[0m \u001b[43mdigits\u001b[49m\u001b[43m(\u001b[49m\u001b[38;5;241;43m0\u001b[39;49m\u001b[43m)\u001b[49m\n",
      "Cell \u001b[0;32mIn[9], line 8\u001b[0m, in \u001b[0;36mdigits\u001b[0;34m(digit)\u001b[0m\n\u001b[1;32m      6\u001b[0m \u001b[38;5;28mprint\u001b[39m(labels)\n\u001b[1;32m      7\u001b[0m \u001b[38;5;66;03m# please think about what the next lines do\u001b[39;00m\n\u001b[0;32m----> 8\u001b[0m permidx \u001b[38;5;241m=\u001b[39m \u001b[43msp\u001b[49m\u001b[38;5;241;43m.\u001b[39;49m\u001b[43mrandom\u001b[49m\u001b[38;5;241m.\u001b[39mpermutation(sp\u001b[38;5;241m.\u001b[39marange(imgs\u001b[38;5;241m.\u001b[39mshape[\u001b[38;5;241m-\u001b[39m\u001b[38;5;241m1\u001b[39m]))\n\u001b[1;32m      9\u001b[0m trainpercent \u001b[38;5;241m=\u001b[39m \u001b[38;5;241m70.\u001b[39m\n\u001b[1;32m     10\u001b[0m stopat \u001b[38;5;241m=\u001b[39m sp\u001b[38;5;241m.\u001b[39mfloor(labels\u001b[38;5;241m.\u001b[39mshape[\u001b[38;5;241m-\u001b[39m\u001b[38;5;241m1\u001b[39m]\u001b[38;5;241m*\u001b[39mtrainpercent\u001b[38;5;241m/\u001b[39m\u001b[38;5;241m100.\u001b[39m)\n",
      "File \u001b[0;32m/Library/Frameworks/Python.framework/Versions/3.10/lib/python3.10/site-packages/scipy/__init__.py:194\u001b[0m, in \u001b[0;36m__getattr__\u001b[0;34m(name)\u001b[0m\n\u001b[1;32m    192\u001b[0m     \u001b[38;5;28;01mreturn\u001b[39;00m \u001b[38;5;28mglobals\u001b[39m()[name]\n\u001b[1;32m    193\u001b[0m \u001b[38;5;28;01mexcept\u001b[39;00m \u001b[38;5;167;01mKeyError\u001b[39;00m:\n\u001b[0;32m--> 194\u001b[0m     \u001b[38;5;28;01mraise\u001b[39;00m \u001b[38;5;167;01mAttributeError\u001b[39;00m(\n\u001b[1;32m    195\u001b[0m         \u001b[38;5;124mf\u001b[39m\u001b[38;5;124m\"\u001b[39m\u001b[38;5;124mModule \u001b[39m\u001b[38;5;124m'\u001b[39m\u001b[38;5;124mscipy\u001b[39m\u001b[38;5;124m'\u001b[39m\u001b[38;5;124m has no attribute \u001b[39m\u001b[38;5;124m'\u001b[39m\u001b[38;5;132;01m{\u001b[39;00mname\u001b[38;5;132;01m}\u001b[39;00m\u001b[38;5;124m'\u001b[39m\u001b[38;5;124m\"\u001b[39m\n\u001b[1;32m    196\u001b[0m     )\n",
      "\u001b[0;31mAttributeError\u001b[0m: Module 'scipy' has no attribute 'random'"
     ]
    }
   ],
   "source": [
    "digits(0)"
   ]
  },
  {
   "cell_type": "code",
   "execution_count": null,
   "id": "1b44572e-ac28-4701-ba98-a91ae912382c",
   "metadata": {},
   "outputs": [],
   "source": []
  }
 ],
 "metadata": {
  "kernelspec": {
   "display_name": "Python 3 (ipykernel)",
   "language": "python",
   "name": "python3"
  },
  "language_info": {
   "codemirror_mode": {
    "name": "ipython",
    "version": 3
   },
   "file_extension": ".py",
   "mimetype": "text/x-python",
   "name": "python",
   "nbconvert_exporter": "python",
   "pygments_lexer": "ipython3",
   "version": "3.10.5"
  }
 },
 "nbformat": 4,
 "nbformat_minor": 5
}
